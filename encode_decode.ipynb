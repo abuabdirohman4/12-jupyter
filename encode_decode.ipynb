{
 "metadata": {
  "language_info": {
   "codemirror_mode": {
    "name": "ipython",
    "version": 3
   },
   "file_extension": ".py",
   "mimetype": "text/x-python",
   "name": "python",
   "nbconvert_exporter": "python",
   "pygments_lexer": "ipython3",
   "version": "3.8.5"
  },
  "orig_nbformat": 2,
  "kernelspec": {
   "name": "python38564bit0d9cac4d2a85481a821e3303ad5ece89",
   "display_name": "Python 3.8.5 64-bit"
  },
  "metadata": {
   "interpreter": {
    "hash": "916dbcbb3f70747c44a77c7bcd40155683ae19c65e1c03b4aa3499c5328201f1"
   }
  }
 },
 "nbformat": 4,
 "nbformat_minor": 2,
 "cells": [
  {
   "cell_type": "code",
   "execution_count": null,
   "metadata": {},
   "outputs": [],
   "source": [
    "import base64\n",
    "  \n",
    "sample_string = \"GeeksForGeeks is the best.jpeg\"\n",
    "sample_string_bytes = sample_string.encode(\"utf-8\")\n",
    "print('sample_string_bytes :',sample_string_bytes) \n",
    "\n",
    "base64_bytes = base64.b64encode(sample_string_bytes)\n",
    "base64_string = base64_bytes.decode(\"utf-8\")\n",
    "\n",
    "print('base64_bytes :',base64_bytes)\n",
    "print('base64_string :',base64_string)\n",
    "  \n",
    "print(f\"Encoded string: {base64_string}\")\n",
    "\n",
    "base64 = sample_string.encode(\"ascii\")\n",
    "print('base64 ', base64)"
   ]
  },
  {
   "cell_type": "code",
   "execution_count": null,
   "metadata": {},
   "outputs": [],
   "source": [
    "import base64\n",
    "  \n",
    "base64_string =\"58ea1bc05be1d1ded954652f5dcdebc6d27d0752\"\n",
    "base64_bytes = base64_string.encode(\"utf-8'\")\n",
    "  \n",
    "sample_string_bytes = base64.b64decode(base64_bytes)\n",
    "sample_string = sample_string_bytes.decode(\"utf-8'\")\n",
    "  \n",
    "print(f\"Decoded string: {sample_string}\")"
   ]
  },
  {
   "cell_type": "code",
   "execution_count": null,
   "metadata": {},
   "outputs": [],
   "source": [
    "import base64\n",
    "\"58ea1bc05be1d1ded954652f5dcdebc6d27d0752\".decode('utf-8').encode('utf-8')"
   ]
  },
  {
   "cell_type": "code",
   "execution_count": 6,
   "metadata": {},
   "outputs": [
    {
     "output_type": "stream",
     "name": "stdout",
     "text": [
      "Decoded string: GeeksForGeeks is the best\n"
     ]
    }
   ],
   "source": [
    "# import base64\n",
    "# pgadmin = 'a2/a2ee5fa7a35e9980a52d288e53b0b5b1af1fa85e'\n",
    "# base64_bytes = pgadmin.encode(\"utf-8'\")\n",
    "\n",
    "import base64\n",
    "  \n",
    "base64_string =\"R2Vla3NGb3JHZWVrcyBpcyB0aGUgYmVzdA==\"\n",
    "base64_bytes = base64_string.encode(\"ascii\")\n",
    "  \n",
    "sample_string_bytes = base64.b64decode(base64_bytes)\n",
    "sample_string = sample_string_bytes.decode(\"ascii\")\n",
    "  \n",
    "print(f\"Decoded string: {sample_string}\")"
   ]
  },
  {
   "cell_type": "code",
   "execution_count": 7,
   "metadata": {},
   "outputs": [
    {
     "output_type": "stream",
     "name": "stdout",
     "text": [
      "Encoded string: U2NyZWVuc2hvdCBmcm9tIDIwMjEtMDMtMjIgMTctMDEtMzEucG5n\n"
     ]
    }
   ],
   "source": [
    "import base64\n",
    "  \n",
    "sample_string = \"Screenshot from 2021-03-22 17-01-31.png\"\n",
    "sample_string_bytes = sample_string.encode(\"ascii\")\n",
    "  \n",
    "base64_bytes = base64.b64encode(sample_string_bytes)\n",
    "base64_string = base64_bytes.decode(\"ascii\")\n",
    "\n",
    "  \n",
    "print(f\"Encoded string: {base64_string}\")"
   ]
  },
  {
   "cell_type": "code",
   "execution_count": 10,
   "metadata": {},
   "outputs": [
    {
     "output_type": "error",
     "ename": "AttributeError",
     "evalue": "module 'base64' has no attribute 'b6encode'",
     "traceback": [
      "\u001b[0;31m---------------------------------------------------------------------------\u001b[0m",
      "\u001b[0;31mAttributeError\u001b[0m                            Traceback (most recent call last)",
      "\u001b[0;32m<ipython-input-10-52b06b02f0c0>\u001b[0m in \u001b[0;36m<module>\u001b[0;34m\u001b[0m\n\u001b[1;32m      1\u001b[0m \u001b[0;31m# base64_string = sample_string.decode(\"ascii\")\u001b[0m\u001b[0;34m\u001b[0m\u001b[0;34m\u001b[0m\u001b[0;34m\u001b[0m\u001b[0m\n\u001b[0;32m----> 2\u001b[0;31m \u001b[0mbase64_string\u001b[0m \u001b[0;34m=\u001b[0m \u001b[0mbase64\u001b[0m\u001b[0;34m.\u001b[0m\u001b[0mb6encode\u001b[0m\u001b[0;34m(\u001b[0m\u001b[0msample_string\u001b[0m\u001b[0;34m)\u001b[0m\u001b[0;34m\u001b[0m\u001b[0;34m\u001b[0m\u001b[0m\n\u001b[0m\u001b[1;32m      3\u001b[0m \u001b[0mbase64_string\u001b[0m\u001b[0;34m\u001b[0m\u001b[0;34m\u001b[0m\u001b[0m\n",
      "\u001b[0;31mAttributeError\u001b[0m: module 'base64' has no attribute 'b6encode'"
     ]
    }
   ],
   "source": [
    "# base64_string = sample_string.decode(\"ascii\")\n",
    "base64_string = base64.b6encode(sample_string)\n",
    "base64_string"
   ]
  },
  {
   "cell_type": "code",
   "execution_count": 16,
   "metadata": {},
   "outputs": [
    {
     "output_type": "stream",
     "name": "stdout",
     "text": [
      "base64_encod : b'U2NyZWVuc2hvdCBmcm9tIDIwMjEtMDMtMjIgMTctMDEtMzEucG5n\\n'\nbase64_bytes : b'U2NyZWVuc2hvdCBmcm9tIDIwMjEtMDMtMjIgMTctMDEtMzEucG5n'\n"
     ]
    }
   ],
   "source": [
    "import unicodedata\n",
    "import base64\n",
    "\n",
    "# 121ef2f1101937fe4b0c362bb8611aee7eaf6224\n",
    "\n",
    "sample_string = \"Screenshot from 2021-03-22 17-01-31.png\"\n",
    "sample_string_bytes = sample_string.encode(\"ascii\")\n",
    "\n",
    "# filename = unicodedata.normalize('NFD', sample_string.filename)\n",
    "base64_encodestring = base64.encodebytes(sample_string_bytes)\n",
    "base64_bytes = base64.b64encode(sample_string_bytes)\n",
    "\n",
    "print('base64_encod :', base64_encodestring)\n",
    "print('base64_bytes :', base64_bytes)"
   ]
  },
  {
   "cell_type": "code",
   "execution_count": 17,
   "metadata": {},
   "outputs": [
    {
     "output_type": "execute_result",
     "data": {
      "text/plain": [
       "'U2NyZWVuc2hvdCBmcm9tIDIwMjEtMDMtMjIgMTctMDEtMzEucG5n'"
      ]
     },
     "metadata": {},
     "execution_count": 17
    }
   ],
   "source": [
    "import base64\n",
    "\n",
    "files = \"Screenshot from 2021-03-22 17-01-31.png\"\n",
    "files_bytes = files.encode(\"ascii\")\n",
    "base64_bytes = base64.b64encode(files_bytes)\n",
    "base64_string = base64_bytes.decode(\"ascii\")\n",
    "\n",
    "base64_string"
   ]
  },
  {
   "cell_type": "code",
   "execution_count": null,
   "metadata": {},
   "outputs": [],
   "source": [
    "article = kwargs['article']\n",
    "article_1 = unicodedata.normalize('NFKD', article).encode('ascii', 'ignore')\n",
    "article_2 = article_1.lstrip('data:image/jpeg;base64,')"
   ]
  },
  {
   "cell_type": "code",
   "execution_count": 24,
   "metadata": {},
   "outputs": [
    {
     "output_type": "execute_result",
     "data": {
      "text/plain": [
       "b'Screenshot from 2021-03-22 17-01-31.png'"
      ]
     },
     "metadata": {},
     "execution_count": 24
    }
   ],
   "source": [
    "import base64\n",
    "import unicodedata\n",
    "\n",
    "files = \"Screenshot from 2021-03-22 17-01-31.png\"\n",
    "files_bytes = unicodedata.normalize('NFKD', files).encode('ascii', 'ignore')\n",
    "# base64_bytes = base64.b64encode(files_bytes)\n",
    "# base64_string = base64_bytes.decode(\"ascii\")\n",
    "article_2 = files_bytes.lstrip()\n",
    "article_2"
   ]
  },
  {
   "cell_type": "code",
   "execution_count": null,
   "metadata": {},
   "outputs": [],
   "source": []
  }
 ]
}